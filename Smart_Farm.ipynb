{
  "nbformat": 4,
  "nbformat_minor": 0,
  "metadata": {
    "colab": {
      "provenance": [],
      "authorship_tag": "ABX9TyPGnCNKSkIaohbVLBs+lFg+",
      "include_colab_link": true
    },
    "kernelspec": {
      "name": "python3",
      "display_name": "Python 3"
    },
    "language_info": {
      "name": "python"
    }
  },
  "cells": [
    {
      "cell_type": "markdown",
      "metadata": {
        "id": "view-in-github",
        "colab_type": "text"
      },
      "source": [
        "<a href=\"https://colab.research.google.com/github/Kwasi-Dankwa/farming-yield-project/blob/main/Smart_Farm.ipynb\" target=\"_parent\"><img src=\"https://colab.research.google.com/assets/colab-badge.svg\" alt=\"Open In Colab\"/></a>"
      ]
    },
    {
      "cell_type": "markdown",
      "source": [
        "Model Building"
      ],
      "metadata": {
        "id": "WAzJGDomcz_X"
      }
    },
    {
      "cell_type": "code",
      "execution_count": 2,
      "metadata": {
        "colab": {
          "base_uri": "https://localhost:8080/"
        },
        "id": "eXq3teFwaVm2",
        "outputId": "79086d32-1d75-49d5-dfff-7df135f18642"
      },
      "outputs": [
        {
          "output_type": "stream",
          "name": "stdout",
          "text": [
            "Requirement already satisfied: rpy2 in /usr/local/lib/python3.11/dist-packages (3.5.17)\n",
            "Requirement already satisfied: cffi>=1.15.1 in /usr/local/lib/python3.11/dist-packages (from rpy2) (1.17.1)\n",
            "Requirement already satisfied: jinja2 in /usr/local/lib/python3.11/dist-packages (from rpy2) (3.1.6)\n",
            "Requirement already satisfied: tzlocal in /usr/local/lib/python3.11/dist-packages (from rpy2) (5.3.1)\n",
            "Requirement already satisfied: pycparser in /usr/local/lib/python3.11/dist-packages (from cffi>=1.15.1->rpy2) (2.22)\n",
            "Requirement already satisfied: MarkupSafe>=2.0 in /usr/local/lib/python3.11/dist-packages (from jinja2->rpy2) (3.0.2)\n"
          ]
        }
      ],
      "source": [
        "#Installing rpy2\n",
        "!pip install rpy2\n"
      ]
    },
    {
      "cell_type": "code",
      "source": [
        "# Loading R magic\n",
        "%load_ext rpy2.ipython"
      ],
      "metadata": {
        "id": "RZdeK5xMcK45"
      },
      "execution_count": 3,
      "outputs": []
    },
    {
      "cell_type": "code",
      "source": [
        "%%R\n",
        "# loading and previewing dataset\n",
        "df <- read.csv(\"/content/Smart_Farming_Crop_Yield_2024.csv\")\n",
        "head(df)\n",
        "\n",
        "# summary of the data\n",
        "summary(df)"
      ],
      "metadata": {
        "colab": {
          "base_uri": "https://localhost:8080/"
        },
        "id": "fOiF-1VqcXqC",
        "outputId": "4d300450-2e14-4556-e19d-748c6026f898"
      },
      "execution_count": 5,
      "outputs": [
        {
          "output_type": "stream",
          "name": "stdout",
          "text": [
            "   farm_id             region           crop_type         soil_moisture_.\n",
            " Length:500         Length:500         Length:500         Min.   :10.16  \n",
            " Class :character   Class :character   Class :character   1st Qu.:17.89  \n",
            " Mode  :character   Mode  :character   Mode  :character   Median :25.86  \n",
            "                                                          Mean   :26.75  \n",
            "                                                          3rd Qu.:36.02  \n",
            "                                                          Max.   :44.98  \n",
            "    soil_pH      temperature_C    rainfall_mm       humidity_.   \n",
            " Min.   :5.510   Min.   :15.00   Min.   : 50.17   Min.   :40.23  \n",
            " 1st Qu.:6.030   1st Qu.:20.30   1st Qu.:119.22   1st Qu.:51.87  \n",
            " Median :6.530   Median :24.66   Median :191.54   Median :65.69  \n",
            " Mean   :6.524   Mean   :24.68   Mean   :181.69   Mean   :65.19  \n",
            " 3rd Qu.:7.040   3rd Qu.:29.09   3rd Qu.:239.03   3rd Qu.:78.00  \n",
            " Max.   :7.500   Max.   :34.84   Max.   :298.96   Max.   :90.00  \n",
            " sunlight_hours   irrigation_type    fertilizer_type    pesticide_usage_ml\n",
            " Min.   : 4.010   Length:500         Length:500         Min.   : 5.05     \n",
            " 1st Qu.: 5.668   Class :character   Class :character   1st Qu.:14.95     \n",
            " Median : 6.995   Mode  :character   Mode  :character   Median :25.98     \n",
            " Mean   : 7.030                                         Mean   :26.59     \n",
            " 3rd Qu.: 8.470                                         3rd Qu.:38.01     \n",
            " Max.   :10.000                                         Max.   :49.94     \n",
            " sowing_date        harvest_date         total_days    yield_kg_per_hectare\n",
            " Length:500         Length:500         Min.   : 90.0   Min.   :2024        \n",
            " Class :character   Class :character   1st Qu.:105.8   1st Qu.:2995        \n",
            " Mode  :character   Mode  :character   Median :119.0   Median :4072        \n",
            "                                       Mean   :119.5   Mean   :4033        \n",
            "                                       3rd Qu.:134.0   3rd Qu.:5062        \n",
            "                                       Max.   :150.0   Max.   :5998        \n",
            "  sensor_id          timestamp            latitude       longitude    \n",
            " Length:500         Length:500         Min.   :10.00   Min.   :70.02  \n",
            " Class :character   Class :character   1st Qu.:16.26   1st Qu.:75.37  \n",
            " Mode  :character   Mode  :character   Median :21.98   Median :80.65  \n",
            "                                       Mean   :22.44   Mean   :80.39  \n",
            "                                       3rd Qu.:28.53   3rd Qu.:85.65  \n",
            "                                       Max.   :34.98   Max.   :89.99  \n",
            "   NDVI_index     crop_disease_status\n",
            " Min.   :0.3000   Length:500         \n",
            " 1st Qu.:0.4475   Class :character   \n",
            " Median :0.6100   Mode  :character   \n",
            " Mean   :0.6021                      \n",
            " 3rd Qu.:0.7500                      \n",
            " Max.   :0.9000                      \n"
          ]
        }
      ]
    }
  ]
}